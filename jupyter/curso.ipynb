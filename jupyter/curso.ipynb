{
 "cells": [
  {
   "cell_type": "code",
   "execution_count": null,
   "id": "5f869d03-c15c-4e6e-9496-3f897afad80d",
   "metadata": {},
   "outputs": [],
   "source": [
    "import pandas as pd\n",
    "import os\n",
    "dir = os.getcwd()+'/work/csv'\n",
    "\n",
    "#extract data from csv\n",
    "def extract():\n",
    "    try:\n",
    "        # starting directory\n",
    "        directory = dir\n",
    "        # iterate over files in the directory\n",
    "        for filename in os.listdir(directory):\n",
    "            #get filename without ext\n",
    "            file_wo_ext = os.path.splitext(filename)[0]\n",
    "            # only process csv files\n",
    "            if filename.endswith(\".csv\"):\n",
    "                f = os.path.join(directory, filename)\n",
    "                print(filename)\n",
    "                # checking if it is a file\n",
    "                if os.path.isfile(f):\n",
    "                    df = pd.read_csv(f)\n",
    "                    return df\n",
    "    except Exception as e:\n",
    "        #teams.send(to, \"File Upload, Data extract error: \", f\"Data extract error: File location {dir}\" + str(e))\n",
    "        print(\"Data extract error: \" + str(e))"
   ]
  },
  {
   "cell_type": "code",
   "execution_count": null,
   "id": "91f31ca9-b547-40a0-bd6f-57f7e2545825",
   "metadata": {},
   "outputs": [],
   "source": [
    "df = extract()\n",
    "print(df.info())"
   ]
  },
  {
   "cell_type": "code",
   "execution_count": null,
   "id": "d34faed7-995c-4d44-bb79-f4bad6e79c52",
   "metadata": {},
   "outputs": [],
   "source": [
    "print(df)"
   ]
  },
  {
   "cell_type": "code",
   "execution_count": null,
   "id": "f035c7b6-d21b-4091-949e-fc0e4482e4bf",
   "metadata": {},
   "outputs": [],
   "source": [
    "#transform: \n",
    "# 1) eliminar matrículas duplicadas\n",
    "# 2) resolver o que fazer com os valores nulos da materia 4 : trocar NaN por 0\n",
    "# 3) inserir coluna descritiva sobre os alunos que falam ingles, ajustando valores nulos\n",
    "# 4) eliminar nota ZERO de alunos sem reprovação (ainda não cursaram as matérias 1, 2, 3, 4)\n"
   ]
  },
  {
   "cell_type": "code",
   "execution_count": null,
   "id": "db4e2edd-7931-4dd0-8cf7-bdac7747815d",
   "metadata": {},
   "outputs": [],
   "source": [
    "# 1) eliminar matrículas duplicadas\n",
    "\n",
    "df[df['MATRICULA'].duplicated() == True]"
   ]
  },
  {
   "cell_type": "code",
   "execution_count": null,
   "id": "1b2e7610-a6c2-47be-96a8-3220f57bb027",
   "metadata": {},
   "outputs": [],
   "source": [
    "df = df.drop_duplicates(subset='MATRICULA', keep=\"first\")\n",
    "df"
   ]
  },
  {
   "cell_type": "code",
   "execution_count": null,
   "id": "f547a3db-bbe8-4a41-838b-d49fc836f758",
   "metadata": {},
   "outputs": [],
   "source": [
    "print(df.info()) "
   ]
  },
  {
   "cell_type": "code",
   "execution_count": null,
   "id": "459b996f-8354-4faf-aec4-959d0d2b97e0",
   "metadata": {},
   "outputs": [],
   "source": [
    "# 2) resolver o que fazer com os valores nulos da materia 4 : trocar NaN por 0\n",
    "\n",
    "df[\"NOTA_MAT_4\"].fillna(0, inplace = True)\n",
    "\n",
    "print(df.info()) "
   ]
  },
  {
   "cell_type": "code",
   "execution_count": null,
   "id": "40d563d6-2c71-4c7c-92dd-d3c8b9409bd3",
   "metadata": {},
   "outputs": [],
   "source": [
    "# 3) inserir coluna descritiva sobre os alunos que falam ingles, ajustando valores nulos\n",
    "\n",
    "import numpy as np\n",
    "\n",
    "df[\"INGLES\"].fillna(-1, inplace = True)\n",
    "\n",
    "conditions = [df['INGLES'] > 0, df['INGLES'] == 0, df['INGLES'] < 0]\n",
    "choices = ['SIM', 'NÃO', 'SEM RESPOSTA']\n",
    "\n",
    "df['INGLES_DESC'] = np.select(conditions, choices)"
   ]
  },
  {
   "cell_type": "code",
   "execution_count": null,
   "id": "f1d6372b-fa20-43a5-a091-577ac8baffd3",
   "metadata": {},
   "outputs": [],
   "source": [
    "print(df.info()) \n"
   ]
  },
  {
   "cell_type": "code",
   "execution_count": null,
   "id": "99cd3a27-9dc1-4ecd-95fc-74b7a1a15673",
   "metadata": {},
   "outputs": [],
   "source": [
    "print(df.groupby(['INGLES_DESC'])['INGLES_DESC'].count())"
   ]
  },
  {
   "cell_type": "code",
   "execution_count": null,
   "id": "dfe3385a-1204-416f-a78b-ebf6d2d4d709",
   "metadata": {},
   "outputs": [],
   "source": [
    "# 4) eliminar nota ZERO de alunos sem reprovação (ainda não cursaram as matérias 1, 2, 3, 4)\n",
    "# https://towardsdatascience.com/7-ways-to-handle-missing-values-in-machine-learning-1a6326adf79e\n",
    "\n",
    "# Verificar se o aluno que tirou NOTA 4 foi aprovado ou reprovado nas matérias\n",
    "\n",
    "df[(df['NOTA_MAT_1'] == 4)]"
   ]
  },
  {
   "cell_type": "code",
   "execution_count": null,
   "id": "c948cfd7-97f7-4af4-80f4-f9e7e076fba1",
   "metadata": {},
   "outputs": [],
   "source": [
    "# Verificar se o aluno cursou ou não a matéria 1\n",
    "\n",
    "# APROVADO, NOTA >= 4\n",
    "cond1_mat1 = (df['NOTA_MAT_1'] >= 4) & (df['REPROVACOES_MAT_1'] == 0)\n",
    "\n",
    "# REPROVADO, NOTA < 4\n",
    "cond2_mat1 = (df['NOTA_MAT_1'] < 4) & (df['REPROVACOES_MAT_1'] > 0)\n",
    "\n",
    "# AINDA NAO CURSOU : NOTA = 0, SEM REPROVAÇÕES\n",
    "cond3_mat1 = (df['NOTA_MAT_1'] == 0) & (df['REPROVACOES_MAT_1'] == 0)\n",
    "\n",
    "conditions_MAT1 = [cond1_mat1, cond2_mat1, cond3_mat1]\n",
    "choices = ['APROVADO', 'REPROVADO', 'AINDA NAO CURSOU']\n",
    "\n",
    "df['CURSOU_MAT1_DESC'] = np.select(conditions, choices)"
   ]
  },
  {
   "cell_type": "code",
   "execution_count": null,
   "id": "f254bc5c-b0a5-4651-8936-0f8566df706b",
   "metadata": {},
   "outputs": [],
   "source": [
    "print(df.groupby(['CURSOU_MAT1_DESC'])['CURSOU_MAT1_DESC'].count())"
   ]
  },
  {
   "cell_type": "code",
   "execution_count": null,
   "id": "b484632e-5ecb-4407-92c9-92a18d33409c",
   "metadata": {},
   "outputs": [],
   "source": [
    "# Verificar se o aluno cursou ou não as matérias 2, 3 e 4\n",
    "\n",
    "# APROVADO, NOTA >= 4\n",
    "cond1_mat2 = (df['NOTA_MAT_2'] >= 4) & (df['REPROVACOES_MAT_2'] == 0)\n",
    "cond1_mat3 = (df['NOTA_MAT_3'] >= 4) & (df['REPROVACOES_MAT_3'] == 0)\n",
    "cond1_mat4 = (df['NOTA_MAT_4'] >= 4) & (df['REPROVACOES_MAT_4'] == 0)\n",
    "\n",
    "# REPROVADO, NOTA < 4\n",
    "cond2_mat2 = (df['NOTA_MAT_2'] < 4) & (df['REPROVACOES_MAT_2'] > 0)\n",
    "cond2_mat3 = (df['NOTA_MAT_3'] < 4) & (df['REPROVACOES_MAT_3'] > 0)\n",
    "cond2_mat4 = (df['NOTA_MAT_4'] < 4) & (df['REPROVACOES_MAT_4'] > 0)\n",
    "\n",
    "# AINDA NAO CURSOU : NOTA = 0, SEM REPROVAÇÕES\n",
    "cond3_mat2 = (df['NOTA_MAT_2'] == 0) & (df['REPROVACOES_MAT_2'] == 0)\n",
    "cond3_mat3 = (df['NOTA_MAT_3'] == 0) & (df['REPROVACOES_MAT_3'] == 0)\n",
    "cond3_mat4 = (df['NOTA_MAT_4'] == 0) & (df['REPROVACOES_MAT_4'] == 0)\n",
    "\n",
    "conditions_MAT2 = [cond1_mat2, cond2_mat2, cond3_mat2]\n",
    "conditions_MAT3 = [cond1_mat3, cond2_mat3, cond3_mat3]\n",
    "conditions_MAT4 = [cond1_mat4, cond2_mat4, cond3_mat4]\n",
    "choices = ['APROVADO', 'REPROVADO', 'AINDA NAO CURSOU']\n",
    "\n",
    "df['CURSOU_MAT2_DESC'] = np.select(conditions_MAT2, choices)\n",
    "df['CURSOU_MAT3_DESC'] = np.select(conditions_MAT3, choices)\n",
    "df['CURSOU_MAT4_DESC'] = np.select(conditions_MAT4, choices)"
   ]
  },
  {
   "cell_type": "code",
   "execution_count": null,
   "id": "30e47265-41ce-45a1-b9cd-1cd8d61e8698",
   "metadata": {},
   "outputs": [],
   "source": [
    "print(df.groupby(['CURSOU_MAT2_DESC'])['CURSOU_MAT2_DESC'].count())\n",
    "print('-')\n",
    "print(df.groupby(['CURSOU_MAT3_DESC'])['CURSOU_MAT3_DESC'].count())\n",
    "print('-')\n",
    "print(df.groupby(['CURSOU_MAT4_DESC'])['CURSOU_MAT4_DESC'].count())"
   ]
  },
  {
   "cell_type": "code",
   "execution_count": null,
   "id": "5f18d2f5-e2d1-4953-a529-2cca1e3a3189",
   "metadata": {},
   "outputs": [],
   "source": [
    "#load data to dw\n",
    "df.to_csv('curso_dw.csv', encoding='utf-8', index=False)"
   ]
  },
  {
   "cell_type": "code",
   "execution_count": null,
   "id": "36c34436-8514-40d4-a06a-caf3a183ff96",
   "metadata": {},
   "outputs": [],
   "source": []
  }
 ],
 "metadata": {
  "kernelspec": {
   "display_name": "Python 3 (ipykernel)",
   "language": "python",
   "name": "python3"
  },
  "language_info": {
   "codemirror_mode": {
    "name": "ipython",
    "version": 3
   },
   "file_extension": ".py",
   "mimetype": "text/x-python",
   "name": "python",
   "nbconvert_exporter": "python",
   "pygments_lexer": "ipython3",
   "version": "3.10.5"
  }
 },
 "nbformat": 4,
 "nbformat_minor": 5
}
