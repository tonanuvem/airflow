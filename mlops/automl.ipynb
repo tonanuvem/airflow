{
 "cells": [
  {
   "cell_type": "code",
   "execution_count": null,
   "id": "a226f7e7-be67-4356-bc13-a4dd99494db3",
   "metadata": {},
   "outputs": [],
   "source": [
    "!pip install --upgrade pip\n",
    "!pip install numpy\n",
    "!pip install auto-sklearn"
   ]
  },
  {
   "cell_type": "code",
   "execution_count": null,
   "id": "b1bc967d-e684-446d-a071-36f30f5e5383",
   "metadata": {},
   "outputs": [],
   "source": [
    "from pprint import pprint\n",
    "import sklearn.metrics\n",
    "import autosklearn.classification\n",
    "import pandas as pd\n",
    "\n",
    "# LE O DATASET COMO UM PANDAS DATAFRAME.\n",
    "df_data = pd.read_csv('csv/dw/curso_dw.csv')\n",
    "df_data.head()\n",
    "\n",
    "# Definição das colunas que serão features (nota-se que a coluna NOME não está presente)\n",
    "features = [\n",
    "    'REPROVACOES_MAT_1', 'REPROVACOES_MAT_2', \"REPROVACOES_MAT_3\", \"REPROVACOES_MAT_4\",\n",
    "    \"NOTA_MAT_1\", \"NOTA_MAT_2\", \"NOTA_MAT_3\", \"NOTA_MAT_4\",\n",
    "    \"INGLES\", \"H_AULA_PRES\", \"TAREFAS_ONLINE\", \"FALTAS\",\n",
    "]\n",
    "\n",
    "# Definição da variável-alvo\n",
    "target = [\"PERFIL\"]\n",
    "\n",
    "# Preparação dos argumentos para os métodos da biblioteca ``scikit-learn``\n",
    "X = df_data[features]\n",
    "y = df_data[target]\n",
    "\n",
    "# Separação dos dados em um conjunto de treino e um conjunto de teste\n",
    "#X_train, X_test, y_train, y_test = train_test_split(X, y, test_size=0.3, random_state=337)\n",
    "\n",
    "# Data set test\n",
    "X_train, X_test, y_train, y_test = \\\n",
    "    sklearn.model_selection.train_test_split(X, y, test_size=0.3, random_state=337)\n",
    "\n",
    "# Build and fit a classifier\n",
    "automl = autosklearn.classification.AutoSklearnClassifier(\n",
    "    time_left_for_this_task=180, # quantidade de minutos min\n",
    "    per_run_time_limit=30,\n",
    ")\n",
    "automl.fit(X_train, y_train)\n",
    "\n",
    "# View the models found by auto-sklearn\n",
    "print(automl.leaderboard())\n",
    "\n",
    "\n",
    "# Get the Score of the final ensemble\n",
    "predictions = automl.predict(X_test)\n",
    "print(\"Accuracy score: {}%\".format(100*round(sklearn.metrics.accuracy_score(y_test, predictions))))\n"
   ]
  },
  {
   "cell_type": "code",
   "execution_count": null,
   "id": "b52eeaa0-d122-48fc-8c79-5793979ee119",
   "metadata": {},
   "outputs": [],
   "source": [
    "!pip install joblib --upgrade\n",
    "from joblib import dump\n",
    "dump(automl, 'model/model.automl.joblib')\n"
   ]
  }
 ],
 "metadata": {
  "kernelspec": {
   "display_name": "Python 3 (ipykernel)",
   "language": "python",
   "name": "python3"
  },
  "language_info": {
   "codemirror_mode": {
    "name": "ipython",
    "version": 3
   },
   "file_extension": ".py",
   "mimetype": "text/x-python",
   "name": "python",
   "nbconvert_exporter": "python",
   "pygments_lexer": "ipython3",
   "version": "3.10.5"
  }
 },
 "nbformat": 4,
 "nbformat_minor": 5
}
